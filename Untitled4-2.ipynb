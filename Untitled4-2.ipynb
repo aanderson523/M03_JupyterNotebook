{
 "cells": [
  {
   "cell_type": "code",
   "execution_count": null,
   "id": "d92663d2",
   "metadata": {},
   "outputs": [],
   "source": [
    "#Aubre A. Anderson\n",
    "#Code Exercises"
   ]
  },
  {
   "cell_type": "code",
   "execution_count": 124,
   "id": "4efa24aa",
   "metadata": {},
   "outputs": [
    {
     "name": "stdout",
     "output_type": "stream",
     "text": [
      "['MOZZARELLA', 'CINDERELLA']\n"
     ]
    }
   ],
   "source": [
    "things = ['MOZZARELLA', 'CINDERELLA']\n",
    "print(things)\n"
   ]
  },
  {
   "cell_type": "code",
   "execution_count": 29,
   "id": "721f160f",
   "metadata": {},
   "outputs": [
    {
     "name": "stdout",
     "output_type": "stream",
     "text": [
      "['Harry', 'Ron', 'Hermione']\n"
     ]
    }
   ],
   "source": [
    "\n",
    "def good(lst):\n",
    "    good = ['Harry', 'Ron', 'Hermione']\n",
    "    \n",
    "    for name in lst:\n",
    "        if name == good:\n",
    "            name == good\n",
    "        else:\n",
    "            return good\n",
    "\n",
    "names = lst\n",
    "print (lst)\n",
    "\n",
    "  \n",
    "    "
   ]
  },
  {
   "cell_type": "code",
   "execution_count": 125,
   "id": "d39549e1",
   "metadata": {},
   "outputs": [
    {
     "name": "stdout",
     "output_type": "stream",
     "text": [
      "0\n",
      "1\n",
      "2\n",
      "3\n",
      "4\n",
      "5\n",
      "6\n",
      "7\n",
      "8\n",
      "9\n",
      "9 [3]\n"
     ]
    }
   ],
   "source": [
    "\n",
    "        \n",
    "\n",
    "def get_odds(num):\n",
    "    for num in range(10):\n",
    "        print(num)\n",
    "    if num % 2 == 0:\n",
    "        print(num)\n",
    "    elif num % 2 != 0:\n",
    "        print(num, [3])\n",
    "    else:\n",
    "        print (num)\n",
    "    \n",
    "        \n",
    "get_odds(num)     \n",
    "        \n",
    "    \n",
    "\n",
    "\n",
    "    \n"
   ]
  },
  {
   "cell_type": "code",
   "execution_count": null,
   "id": "112908f7",
   "metadata": {},
   "outputs": [],
   "source": [
    "\n"
   ]
  }
 ],
 "metadata": {
  "kernelspec": {
   "display_name": "Python 3 (ipykernel)",
   "language": "python",
   "name": "python3"
  },
  "language_info": {
   "codemirror_mode": {
    "name": "ipython",
    "version": 3
   },
   "file_extension": ".py",
   "mimetype": "text/x-python",
   "name": "python",
   "nbconvert_exporter": "python",
   "pygments_lexer": "ipython3",
   "version": "3.9.7"
  }
 },
 "nbformat": 4,
 "nbformat_minor": 5
}
